{
 "cells": [
  {
   "cell_type": "code",
   "execution_count": 1,
   "id": "d97fdecd",
   "metadata": {},
   "outputs": [],
   "source": [
    "import numpy as np\n",
    "import pandas as pd\n",
    "import string\n",
    "import nltk\n",
    "from nltk.corpus import stopwords\n",
    "import matplotlib.pyplot as plt\n",
    "from sklearn.preprocessing import LabelEncoder\n",
    "from sklearn.model_selection import train_test_split\n",
    "from sklearn.feature_extraction.text import TfidfVectorizer\n",
    "from sklearn.naive_bayes import MultinomialNB\n",
    "from sklearn.svm import SVC\n",
    "from sklearn.metrics import roc_auc_score, accuracy_score, confusion_matrix\n",
    "from sklearn.pipeline import make_pipeline"
   ]
  },
  {
   "cell_type": "markdown",
   "id": "cc24d611",
   "metadata": {},
   "source": [
    "## Fonctions"
   ]
  },
  {
   "cell_type": "code",
   "execution_count": 2,
   "id": "edc5d4c2",
   "metadata": {},
   "outputs": [],
   "source": [
    "def read_file(file):\n",
    "    # lis message whatsapp dnas une liste de str\n",
    "    x = open(file,'r', encoding = 'utf-8') #Ouvre le fichier texte dans une variable x pas encore exploitable\n",
    "\n",
    "    y = x.read() #chunck de str qu'on doit séparer ligne par ligne\n",
    "\n",
    "    content = y.splitlines() #Splitline convertit le chunck d'str en liste de str\n",
    "    return content"
   ]
  },
  {
   "cell_type": "code",
   "execution_count": 3,
   "id": "78c5c12d",
   "metadata": {},
   "outputs": [],
   "source": [
    "def clean(chat):\n",
    "    # Mets les messages écrit sur plusieurs lignes sur la même ligne\n",
    "    pos = []\n",
    "    for i in range(len(chat)-1,0,-1):\n",
    "        \n",
    "        if len(chat[i]) <23 or chat[i][2] != '/' or chat[i][11] != 'à':\n",
    "            chat[i-1] += chat[i]\n",
    "            pos.append(i)\n",
    "            \n",
    "    for i in pos:\n",
    "        del chat[i]\n",
    "\n",
    "    #supp messages auto de wa\n",
    "    chat = [truc for truc in chat if ': ' in truc]\n",
    "\n",
    "    # création dataframe\n",
    "    df = pd.DataFrame(chat)\n",
    "\n",
    "    df['Année'] = df[0].apply(lambda x: x.split(' à ')[0])\n",
    "    df['Heure'] = df[0].apply(lambda x: x.split(' à ',1)[1].split(' - ')[0])\n",
    "    df['Nom'] = df[0].apply(lambda x: x.split(' - ')[1].split(': ')[0])\n",
    "    df['Message'] = df[0].apply(lambda x: x.split(': ')[1])\n",
    "    df.drop(0,axis = 1,inplace=True)\n",
    "    \n",
    "    #supprétion des gifs et médias\n",
    "    df.drop(df[df['Message'].str.contains('<Média')].index, inplace=True)\n",
    "\n",
    "    #suppr message doublons\n",
    "    df = df.drop_duplicates(['Message'],keep='first')\n",
    "\n",
    "    #suppr message contenant moins de 3 caractères\n",
    "    ind = df[df['Message'].apply(lambda x: len(x)<3)].index\n",
    "    df.drop(ind,inplace=True)\n",
    "    \n",
    "    return df"
   ]
  },
  {
   "cell_type": "markdown",
   "id": "728b504e",
   "metadata": {},
   "source": [
    "## Préparation et néttoyage des données"
   ]
  },
  {
   "cell_type": "code",
   "execution_count": 4,
   "id": "4fe23eed",
   "metadata": {},
   "outputs": [
    {
     "data": {
      "text/html": [
       "<div>\n",
       "<style scoped>\n",
       "    .dataframe tbody tr th:only-of-type {\n",
       "        vertical-align: middle;\n",
       "    }\n",
       "\n",
       "    .dataframe tbody tr th {\n",
       "        vertical-align: top;\n",
       "    }\n",
       "\n",
       "    .dataframe thead th {\n",
       "        text-align: right;\n",
       "    }\n",
       "</style>\n",
       "<table border=\"1\" class=\"dataframe\">\n",
       "  <thead>\n",
       "    <tr style=\"text-align: right;\">\n",
       "      <th></th>\n",
       "      <th>labels</th>\n",
       "      <th>text</th>\n",
       "      <th>text_hi</th>\n",
       "      <th>text_de</th>\n",
       "      <th>text_fr</th>\n",
       "    </tr>\n",
       "  </thead>\n",
       "  <tbody>\n",
       "    <tr>\n",
       "      <th>0</th>\n",
       "      <td>ham</td>\n",
       "      <td>Go until jurong point, crazy.. Available only ...</td>\n",
       "      <td>Dakag बिंदु तक जाओ, पागल. केवल Bag Non महान वि...</td>\n",
       "      <td>Gehen Sie bis jurong Punkt, verrückt.. Verfügb...</td>\n",
       "      <td>Allez jusqu'à Jurong point, fou.. Disponible s...</td>\n",
       "    </tr>\n",
       "    <tr>\n",
       "      <th>1</th>\n",
       "      <td>ham</td>\n",
       "      <td>Ok lar... Joking wif u oni...</td>\n",
       "      <td>ओके लामर.... if if uue पर.</td>\n",
       "      <td>Ok Lar... joking wif u oni...</td>\n",
       "      <td>J'ai fait une blague sur le wif u oni...</td>\n",
       "    </tr>\n",
       "    <tr>\n",
       "      <th>2</th>\n",
       "      <td>spam</td>\n",
       "      <td>Free entry in 2 a wkly comp to win FA Cup fina...</td>\n",
       "      <td>Fktatatat 21 मई को प्राप्त करने के लिए मुफ्त प...</td>\n",
       "      <td>Freier Eintritt in 2 a wkly comp zum Gewinn FA...</td>\n",
       "      <td>Entrée libre dans 2 a wkly comp pour gagner FA...</td>\n",
       "    </tr>\n",
       "    <tr>\n",
       "      <th>3</th>\n",
       "      <td>ham</td>\n",
       "      <td>U dun say so early hor... U c already then say...</td>\n",
       "      <td>Uden इतना जल्दी कहते हैं... तो पहले से ही यूसी...</td>\n",
       "      <td>U dun sagen so früh... U c schon dann sagen...</td>\n",
       "      <td>U dun dit si tôt hor... U c déjà dire alors...</td>\n",
       "    </tr>\n",
       "    <tr>\n",
       "      <th>4</th>\n",
       "      <td>ham</td>\n",
       "      <td>Nah I don't think he goes to usf, he lives aro...</td>\n",
       "      <td>नहीं, मुझे नहीं लगता कि वह हमारे लिए चला जाता ...</td>\n",
       "      <td>Nein, ich glaube nicht, dass er zu unsf geht, ...</td>\n",
       "      <td>Non, je ne pense pas qu'il va à usf, il vit da...</td>\n",
       "    </tr>\n",
       "    <tr>\n",
       "      <th>...</th>\n",
       "      <td>...</td>\n",
       "      <td>...</td>\n",
       "      <td>...</td>\n",
       "      <td>...</td>\n",
       "      <td>...</td>\n",
       "    </tr>\n",
       "    <tr>\n",
       "      <th>5567</th>\n",
       "      <td>spam</td>\n",
       "      <td>This is the 2nd time we have tried 2 contact u...</td>\n",
       "      <td>यह 2 सेकंड है जब हमने 2 संपर्क की कोशिश की है....</td>\n",
       "      <td>Dies ist das zweite Mal, dass wir versucht hab...</td>\n",
       "      <td>C'est la 2ème fois que nous avons essayé 2 con...</td>\n",
       "    </tr>\n",
       "    <tr>\n",
       "      <th>5568</th>\n",
       "      <td>ham</td>\n",
       "      <td>Will ü b going to esplanade fr home?</td>\n",
       "      <td>क्या कलाई घर का पता लगाने के लिए जा रही होगी?</td>\n",
       "      <td>Wird u b gehen, um esplanade fr home?</td>\n",
       "      <td>Est-ce que ü b ira à l'esplanade en maison?</td>\n",
       "    </tr>\n",
       "    <tr>\n",
       "      <th>5569</th>\n",
       "      <td>ham</td>\n",
       "      <td>Pity, * was in mood for that. So...any other s...</td>\n",
       "      <td>तो फिर, दूसरे सुझाव क्या हैं?</td>\n",
       "      <td>Schade, * war in Stimmung dafür. Also... irgen...</td>\n",
       "      <td>Dommage, * était d'humeur pour ça. Donc... d'a...</td>\n",
       "    </tr>\n",
       "    <tr>\n",
       "      <th>5570</th>\n",
       "      <td>ham</td>\n",
       "      <td>The guy did some bitching but I acted like i'd...</td>\n",
       "      <td>आदमी कुछ कुतियािंग किया लेकिन मैं मैं कुछ और ख...</td>\n",
       "      <td>Der Typ hat ein bisschen rumgeschnüffelt, aber...</td>\n",
       "      <td>Le type a fait une saloperie mais j'ai agi com...</td>\n",
       "    </tr>\n",
       "    <tr>\n",
       "      <th>5571</th>\n",
       "      <td>ham</td>\n",
       "      <td>Rofl. Its true to its name</td>\n",
       "      <td>उसकी पीठ के नाम पर इसकी सच्चाई</td>\n",
       "      <td>Rofl. Es ist seinem Namen treu</td>\n",
       "      <td>Rofl. C'est vrai à son nom</td>\n",
       "    </tr>\n",
       "  </tbody>\n",
       "</table>\n",
       "<p>5572 rows × 5 columns</p>\n",
       "</div>"
      ],
      "text/plain": [
       "     labels                                               text  \\\n",
       "0       ham  Go until jurong point, crazy.. Available only ...   \n",
       "1       ham                      Ok lar... Joking wif u oni...   \n",
       "2      spam  Free entry in 2 a wkly comp to win FA Cup fina...   \n",
       "3       ham  U dun say so early hor... U c already then say...   \n",
       "4       ham  Nah I don't think he goes to usf, he lives aro...   \n",
       "...     ...                                                ...   \n",
       "5567   spam  This is the 2nd time we have tried 2 contact u...   \n",
       "5568    ham               Will ü b going to esplanade fr home?   \n",
       "5569    ham  Pity, * was in mood for that. So...any other s...   \n",
       "5570    ham  The guy did some bitching but I acted like i'd...   \n",
       "5571    ham                         Rofl. Its true to its name   \n",
       "\n",
       "                                                text_hi  \\\n",
       "0     Dakag बिंदु तक जाओ, पागल. केवल Bag Non महान वि...   \n",
       "1                            ओके लामर.... if if uue पर.   \n",
       "2     Fktatatat 21 मई को प्राप्त करने के लिए मुफ्त प...   \n",
       "3     Uden इतना जल्दी कहते हैं... तो पहले से ही यूसी...   \n",
       "4     नहीं, मुझे नहीं लगता कि वह हमारे लिए चला जाता ...   \n",
       "...                                                 ...   \n",
       "5567  यह 2 सेकंड है जब हमने 2 संपर्क की कोशिश की है....   \n",
       "5568      क्या कलाई घर का पता लगाने के लिए जा रही होगी?   \n",
       "5569                      तो फिर, दूसरे सुझाव क्या हैं?   \n",
       "5570  आदमी कुछ कुतियािंग किया लेकिन मैं मैं कुछ और ख...   \n",
       "5571                     उसकी पीठ के नाम पर इसकी सच्चाई   \n",
       "\n",
       "                                                text_de  \\\n",
       "0     Gehen Sie bis jurong Punkt, verrückt.. Verfügb...   \n",
       "1                         Ok Lar... joking wif u oni...   \n",
       "2     Freier Eintritt in 2 a wkly comp zum Gewinn FA...   \n",
       "3        U dun sagen so früh... U c schon dann sagen...   \n",
       "4     Nein, ich glaube nicht, dass er zu unsf geht, ...   \n",
       "...                                                 ...   \n",
       "5567  Dies ist das zweite Mal, dass wir versucht hab...   \n",
       "5568              Wird u b gehen, um esplanade fr home?   \n",
       "5569  Schade, * war in Stimmung dafür. Also... irgen...   \n",
       "5570  Der Typ hat ein bisschen rumgeschnüffelt, aber...   \n",
       "5571                     Rofl. Es ist seinem Namen treu   \n",
       "\n",
       "                                                text_fr  \n",
       "0     Allez jusqu'à Jurong point, fou.. Disponible s...  \n",
       "1              J'ai fait une blague sur le wif u oni...  \n",
       "2     Entrée libre dans 2 a wkly comp pour gagner FA...  \n",
       "3        U dun dit si tôt hor... U c déjà dire alors...  \n",
       "4     Non, je ne pense pas qu'il va à usf, il vit da...  \n",
       "...                                                 ...  \n",
       "5567  C'est la 2ème fois que nous avons essayé 2 con...  \n",
       "5568        Est-ce que ü b ira à l'esplanade en maison?  \n",
       "5569  Dommage, * était d'humeur pour ça. Donc... d'a...  \n",
       "5570  Le type a fait une saloperie mais j'ai agi com...  \n",
       "5571                         Rofl. C'est vrai à son nom  \n",
       "\n",
       "[5572 rows x 5 columns]"
      ]
     },
     "execution_count": 4,
     "metadata": {},
     "output_type": "execute_result"
    }
   ],
   "source": [
    "spam = pd.read_csv('spam.csv')\n",
    "spam"
   ]
  },
  {
   "cell_type": "markdown",
   "id": "a39d34af",
   "metadata": {},
   "source": [
    "Nous avons un jeu de données issu de https://www.kaggle.com/datasets/rajnathpatel/multilingual-spam-data\n",
    "La tradution française est parfois approximative.\n",
    "Nous allons extraire les spams puis récuperer le texte français ainsi que le label que nous allons renommer en 'Message' et 'Type'. Cela nous servira plus tard"
   ]
  },
  {
   "cell_type": "code",
   "execution_count": 5,
   "id": "58983a21",
   "metadata": {},
   "outputs": [],
   "source": [
    "spam = spam[spam['labels'] == 'spam']\n",
    "spam = spam[['text_fr','labels']]\n",
    "spam.rename(columns={'text_fr':'Message','labels':'Type'},inplace=True)"
   ]
  },
  {
   "cell_type": "code",
   "execution_count": 6,
   "id": "957f0a20",
   "metadata": {},
   "outputs": [
    {
     "data": {
      "text/html": [
       "<div>\n",
       "<style scoped>\n",
       "    .dataframe tbody tr th:only-of-type {\n",
       "        vertical-align: middle;\n",
       "    }\n",
       "\n",
       "    .dataframe tbody tr th {\n",
       "        vertical-align: top;\n",
       "    }\n",
       "\n",
       "    .dataframe thead th {\n",
       "        text-align: right;\n",
       "    }\n",
       "</style>\n",
       "<table border=\"1\" class=\"dataframe\">\n",
       "  <thead>\n",
       "    <tr style=\"text-align: right;\">\n",
       "      <th></th>\n",
       "      <th>Message</th>\n",
       "      <th>Type</th>\n",
       "    </tr>\n",
       "  </thead>\n",
       "  <tbody>\n",
       "    <tr>\n",
       "      <th>2</th>\n",
       "      <td>Entrée libre dans 2 a wkly comp pour gagner FA...</td>\n",
       "      <td>spam</td>\n",
       "    </tr>\n",
       "    <tr>\n",
       "      <th>5</th>\n",
       "      <td>FreeMsg Hey il ya ma chérie il a été 3 semaine...</td>\n",
       "      <td>spam</td>\n",
       "    </tr>\n",
       "    <tr>\n",
       "      <th>8</th>\n",
       "      <td>WINNER!! En tant que client de réseau apprécié...</td>\n",
       "      <td>spam</td>\n",
       "    </tr>\n",
       "    <tr>\n",
       "      <th>9</th>\n",
       "      <td>Avez-vous eu votre mobile 11 mois ou plus? U R...</td>\n",
       "      <td>spam</td>\n",
       "    </tr>\n",
       "    <tr>\n",
       "      <th>11</th>\n",
       "      <td>SIX chances de gagner CASH! De 100 à 20 000 li...</td>\n",
       "      <td>spam</td>\n",
       "    </tr>\n",
       "    <tr>\n",
       "      <th>...</th>\n",
       "      <td>...</td>\n",
       "      <td>...</td>\n",
       "    </tr>\n",
       "    <tr>\n",
       "      <th>5537</th>\n",
       "      <td>Vous voulez explicitement SEX en 30 secondes? ...</td>\n",
       "      <td>spam</td>\n",
       "    </tr>\n",
       "    <tr>\n",
       "      <th>5540</th>\n",
       "      <td>3 MOBILE SELON 0870 CHATLINES COMPRISES DANS L...</td>\n",
       "      <td>spam</td>\n",
       "    </tr>\n",
       "    <tr>\n",
       "      <th>5547</th>\n",
       "      <td>Avait votre contrat mobile 11 Mnths? Dernier M...</td>\n",
       "      <td>spam</td>\n",
       "    </tr>\n",
       "    <tr>\n",
       "      <th>5566</th>\n",
       "      <td>RAPPEL DE O2: Pour obtenir 2,50 livres de créd...</td>\n",
       "      <td>spam</td>\n",
       "    </tr>\n",
       "    <tr>\n",
       "      <th>5567</th>\n",
       "      <td>C'est la 2ème fois que nous avons essayé 2 con...</td>\n",
       "      <td>spam</td>\n",
       "    </tr>\n",
       "  </tbody>\n",
       "</table>\n",
       "<p>747 rows × 2 columns</p>\n",
       "</div>"
      ],
      "text/plain": [
       "                                                Message  Type\n",
       "2     Entrée libre dans 2 a wkly comp pour gagner FA...  spam\n",
       "5     FreeMsg Hey il ya ma chérie il a été 3 semaine...  spam\n",
       "8     WINNER!! En tant que client de réseau apprécié...  spam\n",
       "9     Avez-vous eu votre mobile 11 mois ou plus? U R...  spam\n",
       "11    SIX chances de gagner CASH! De 100 à 20 000 li...  spam\n",
       "...                                                 ...   ...\n",
       "5537  Vous voulez explicitement SEX en 30 secondes? ...  spam\n",
       "5540  3 MOBILE SELON 0870 CHATLINES COMPRISES DANS L...  spam\n",
       "5547  Avait votre contrat mobile 11 Mnths? Dernier M...  spam\n",
       "5566  RAPPEL DE O2: Pour obtenir 2,50 livres de créd...  spam\n",
       "5567  C'est la 2ème fois que nous avons essayé 2 con...  spam\n",
       "\n",
       "[747 rows x 2 columns]"
      ]
     },
     "execution_count": 6,
     "metadata": {},
     "output_type": "execute_result"
    }
   ],
   "source": [
    "spam"
   ]
  },
  {
   "cell_type": "code",
   "execution_count": 7,
   "id": "cd284e45",
   "metadata": {},
   "outputs": [
    {
     "data": {
      "text/plain": [
       "['21/01/2022 à 01:20 - Les messages et les appels sont chiffrés de bout en bout. Aucun tiers, pas même WhatsApp, ne peut les lire ou les écouter. Appuyez pour en savoir plus.',\n",
       " '21/01/2022 à 01:20 - Kyle Jr: <Médias omis>',\n",
       " '21/01/2022 à 01:20 - Kyle Jr: Ça que tu cherchais?']"
      ]
     },
     "execution_count": 7,
     "metadata": {},
     "output_type": "execute_result"
    }
   ],
   "source": [
    "df = read_file('conv1.txt')\n",
    "df[0:3]"
   ]
  },
  {
   "cell_type": "markdown",
   "id": "db2fd535",
   "metadata": {},
   "source": [
    "Les données de conv1 sont issus d'une conversation wa. Par soucis de confidentialité je n'en affiche qu'une partie.\n",
    "On va transformer ces données bruts (list) en un dataframe exploitable gràce à la fonction 'clean'. Ces données serviront à définir des données non spam."
   ]
  },
  {
   "cell_type": "code",
   "execution_count": 8,
   "id": "883d025b",
   "metadata": {},
   "outputs": [],
   "source": [
    "df = clean(df)"
   ]
  },
  {
   "cell_type": "code",
   "execution_count": 9,
   "id": "307c4de4",
   "metadata": {},
   "outputs": [
    {
     "data": {
      "text/html": [
       "<div>\n",
       "<style scoped>\n",
       "    .dataframe tbody tr th:only-of-type {\n",
       "        vertical-align: middle;\n",
       "    }\n",
       "\n",
       "    .dataframe tbody tr th {\n",
       "        vertical-align: top;\n",
       "    }\n",
       "\n",
       "    .dataframe thead th {\n",
       "        text-align: right;\n",
       "    }\n",
       "</style>\n",
       "<table border=\"1\" class=\"dataframe\">\n",
       "  <thead>\n",
       "    <tr style=\"text-align: right;\">\n",
       "      <th></th>\n",
       "      <th>Année</th>\n",
       "      <th>Heure</th>\n",
       "      <th>Nom</th>\n",
       "      <th>Message</th>\n",
       "    </tr>\n",
       "  </thead>\n",
       "  <tbody>\n",
       "    <tr>\n",
       "      <th>1</th>\n",
       "      <td>21/01/2022</td>\n",
       "      <td>01:20</td>\n",
       "      <td>Kyle Jr</td>\n",
       "      <td>Ça que tu cherchais?</td>\n",
       "    </tr>\n",
       "  </tbody>\n",
       "</table>\n",
       "</div>"
      ],
      "text/plain": [
       "        Année  Heure      Nom               Message\n",
       "1  21/01/2022  01:20  Kyle Jr  Ça que tu cherchais?"
      ]
     },
     "execution_count": 9,
     "metadata": {},
     "output_type": "execute_result"
    }
   ],
   "source": [
    "df.loc[[1]]"
   ]
  },
  {
   "cell_type": "code",
   "execution_count": 10,
   "id": "19e3feed",
   "metadata": {},
   "outputs": [],
   "source": [
    "#suppr colonnes Année Heure Nom\n",
    "df.drop(['Année','Heure','Nom'], axis=1, inplace =True)\n",
    "\n",
    "#ajout col type\n",
    "df['Type'] = ['Ham']*len(df)\n",
    "\n",
    "#concaténation de df et spam\n",
    "df = pd.concat([df,spam])\n",
    "\n",
    "#réinitialiser index\n",
    "df.reset_index(inplace=True,drop=True)"
   ]
  },
  {
   "cell_type": "code",
   "execution_count": 11,
   "id": "3c9b6d46",
   "metadata": {},
   "outputs": [
    {
     "data": {
      "text/plain": [
       "Ham     0.916349\n",
       "spam    0.083651\n",
       "Name: Type, dtype: float64"
      ]
     },
     "execution_count": 11,
     "metadata": {},
     "output_type": "execute_result"
    }
   ],
   "source": [
    "df['Type'].value_counts()/len(df)"
   ]
  },
  {
   "cell_type": "markdown",
   "id": "9d6eb89a",
   "metadata": {},
   "source": [
    "Il y a 8.3% de spam dans le dataset. Faute de mieux on s'en contentera."
   ]
  },
  {
   "cell_type": "markdown",
   "id": "99c753c8",
   "metadata": {},
   "source": [
    "## détection spam"
   ]
  },
  {
   "cell_type": "markdown",
   "id": "cf386a94",
   "metadata": {},
   "source": [
    "Pour la détection nous utiliseront la classe TfidfVectorizer"
   ]
  },
  {
   "cell_type": "code",
   "execution_count": 12,
   "id": "b7e74142",
   "metadata": {},
   "outputs": [],
   "source": [
    "encode = LabelEncoder()\n",
    "y = encode.fit_transform(df['Type'])\n",
    "\n",
    "x_train,x_test,y_train,y_test = train_test_split(df[\"Message\"],y,test_size=0.2)\n",
    "\n",
    "trans_vect=TfidfVectorizer()\n",
    "x_train_trans=trans_vect.fit_transform(x_train)\n",
    "x_test_trans=trans_vect.transform(x_test)"
   ]
  },
  {
   "cell_type": "code",
   "execution_count": 13,
   "id": "eeb156e6",
   "metadata": {},
   "outputs": [],
   "source": [
    "# on définit deux modèles\n",
    "modele_bayes=MultinomialNB()\n",
    "modele_svm=SVC()"
   ]
  },
  {
   "cell_type": "code",
   "execution_count": 14,
   "id": "b5c960ea",
   "metadata": {},
   "outputs": [
    {
     "data": {
      "text/html": [
       "<style>#sk-container-id-1 {color: black;background-color: white;}#sk-container-id-1 pre{padding: 0;}#sk-container-id-1 div.sk-toggleable {background-color: white;}#sk-container-id-1 label.sk-toggleable__label {cursor: pointer;display: block;width: 100%;margin-bottom: 0;padding: 0.3em;box-sizing: border-box;text-align: center;}#sk-container-id-1 label.sk-toggleable__label-arrow:before {content: \"▸\";float: left;margin-right: 0.25em;color: #696969;}#sk-container-id-1 label.sk-toggleable__label-arrow:hover:before {color: black;}#sk-container-id-1 div.sk-estimator:hover label.sk-toggleable__label-arrow:before {color: black;}#sk-container-id-1 div.sk-toggleable__content {max-height: 0;max-width: 0;overflow: hidden;text-align: left;background-color: #f0f8ff;}#sk-container-id-1 div.sk-toggleable__content pre {margin: 0.2em;color: black;border-radius: 0.25em;background-color: #f0f8ff;}#sk-container-id-1 input.sk-toggleable__control:checked~div.sk-toggleable__content {max-height: 200px;max-width: 100%;overflow: auto;}#sk-container-id-1 input.sk-toggleable__control:checked~label.sk-toggleable__label-arrow:before {content: \"▾\";}#sk-container-id-1 div.sk-estimator input.sk-toggleable__control:checked~label.sk-toggleable__label {background-color: #d4ebff;}#sk-container-id-1 div.sk-label input.sk-toggleable__control:checked~label.sk-toggleable__label {background-color: #d4ebff;}#sk-container-id-1 input.sk-hidden--visually {border: 0;clip: rect(1px 1px 1px 1px);clip: rect(1px, 1px, 1px, 1px);height: 1px;margin: -1px;overflow: hidden;padding: 0;position: absolute;width: 1px;}#sk-container-id-1 div.sk-estimator {font-family: monospace;background-color: #f0f8ff;border: 1px dotted black;border-radius: 0.25em;box-sizing: border-box;margin-bottom: 0.5em;}#sk-container-id-1 div.sk-estimator:hover {background-color: #d4ebff;}#sk-container-id-1 div.sk-parallel-item::after {content: \"\";width: 100%;border-bottom: 1px solid gray;flex-grow: 1;}#sk-container-id-1 div.sk-label:hover label.sk-toggleable__label {background-color: #d4ebff;}#sk-container-id-1 div.sk-serial::before {content: \"\";position: absolute;border-left: 1px solid gray;box-sizing: border-box;top: 0;bottom: 0;left: 50%;z-index: 0;}#sk-container-id-1 div.sk-serial {display: flex;flex-direction: column;align-items: center;background-color: white;padding-right: 0.2em;padding-left: 0.2em;position: relative;}#sk-container-id-1 div.sk-item {position: relative;z-index: 1;}#sk-container-id-1 div.sk-parallel {display: flex;align-items: stretch;justify-content: center;background-color: white;position: relative;}#sk-container-id-1 div.sk-item::before, #sk-container-id-1 div.sk-parallel-item::before {content: \"\";position: absolute;border-left: 1px solid gray;box-sizing: border-box;top: 0;bottom: 0;left: 50%;z-index: -1;}#sk-container-id-1 div.sk-parallel-item {display: flex;flex-direction: column;z-index: 1;position: relative;background-color: white;}#sk-container-id-1 div.sk-parallel-item:first-child::after {align-self: flex-end;width: 50%;}#sk-container-id-1 div.sk-parallel-item:last-child::after {align-self: flex-start;width: 50%;}#sk-container-id-1 div.sk-parallel-item:only-child::after {width: 0;}#sk-container-id-1 div.sk-dashed-wrapped {border: 1px dashed gray;margin: 0 0.4em 0.5em 0.4em;box-sizing: border-box;padding-bottom: 0.4em;background-color: white;}#sk-container-id-1 div.sk-label label {font-family: monospace;font-weight: bold;display: inline-block;line-height: 1.2em;}#sk-container-id-1 div.sk-label-container {text-align: center;}#sk-container-id-1 div.sk-container {/* jupyter's `normalize.less` sets `[hidden] { display: none; }` but bootstrap.min.css set `[hidden] { display: none !important; }` so we also need the `!important` here to be able to override the default hidden behavior on the sphinx rendered scikit-learn.org. See: https://github.com/scikit-learn/scikit-learn/issues/21755 */display: inline-block !important;position: relative;}#sk-container-id-1 div.sk-text-repr-fallback {display: none;}</style><div id=\"sk-container-id-1\" class=\"sk-top-container\"><div class=\"sk-text-repr-fallback\"><pre>SVC()</pre><b>In a Jupyter environment, please rerun this cell to show the HTML representation or trust the notebook. <br />On GitHub, the HTML representation is unable to render, please try loading this page with nbviewer.org.</b></div><div class=\"sk-container\" hidden><div class=\"sk-item\"><div class=\"sk-estimator sk-toggleable\"><input class=\"sk-toggleable__control sk-hidden--visually\" id=\"sk-estimator-id-1\" type=\"checkbox\" checked><label for=\"sk-estimator-id-1\" class=\"sk-toggleable__label sk-toggleable__label-arrow\">SVC</label><div class=\"sk-toggleable__content\"><pre>SVC()</pre></div></div></div></div></div>"
      ],
      "text/plain": [
       "SVC()"
      ]
     },
     "execution_count": 14,
     "metadata": {},
     "output_type": "execute_result"
    }
   ],
   "source": [
    "modele_bayes.fit(x_train_trans, y_train)\n",
    "modele_svm.fit(x_train_trans, y_train)"
   ]
  },
  {
   "cell_type": "code",
   "execution_count": 15,
   "id": "bc8db749",
   "metadata": {},
   "outputs": [
    {
     "name": "stdout",
     "output_type": "stream",
     "text": [
      "Accuracy pour naive Bayes: 0.9804031354983203\n",
      "Accuracy pour SVC : 0.9893617021276596\n"
     ]
    }
   ],
   "source": [
    "print(\"Accuracy pour naive Bayes:\",\n",
    "accuracy_score(y_test, modele_bayes.predict(x_test_trans)))\n",
    "\n",
    "print(\"Accuracy pour SVC :\", accuracy_score(y_test, modele_svm.predict(x_test_trans)))"
   ]
  },
  {
   "cell_type": "markdown",
   "id": "d609ab12",
   "metadata": {},
   "source": [
    "On constate que le modèle SVC a une meilleur précision nous allons donc le choisir"
   ]
  },
  {
   "cell_type": "code",
   "execution_count": 16,
   "id": "a9c3366d",
   "metadata": {},
   "outputs": [
    {
     "data": {
      "text/html": [
       "<style>#sk-container-id-2 {color: black;background-color: white;}#sk-container-id-2 pre{padding: 0;}#sk-container-id-2 div.sk-toggleable {background-color: white;}#sk-container-id-2 label.sk-toggleable__label {cursor: pointer;display: block;width: 100%;margin-bottom: 0;padding: 0.3em;box-sizing: border-box;text-align: center;}#sk-container-id-2 label.sk-toggleable__label-arrow:before {content: \"▸\";float: left;margin-right: 0.25em;color: #696969;}#sk-container-id-2 label.sk-toggleable__label-arrow:hover:before {color: black;}#sk-container-id-2 div.sk-estimator:hover label.sk-toggleable__label-arrow:before {color: black;}#sk-container-id-2 div.sk-toggleable__content {max-height: 0;max-width: 0;overflow: hidden;text-align: left;background-color: #f0f8ff;}#sk-container-id-2 div.sk-toggleable__content pre {margin: 0.2em;color: black;border-radius: 0.25em;background-color: #f0f8ff;}#sk-container-id-2 input.sk-toggleable__control:checked~div.sk-toggleable__content {max-height: 200px;max-width: 100%;overflow: auto;}#sk-container-id-2 input.sk-toggleable__control:checked~label.sk-toggleable__label-arrow:before {content: \"▾\";}#sk-container-id-2 div.sk-estimator input.sk-toggleable__control:checked~label.sk-toggleable__label {background-color: #d4ebff;}#sk-container-id-2 div.sk-label input.sk-toggleable__control:checked~label.sk-toggleable__label {background-color: #d4ebff;}#sk-container-id-2 input.sk-hidden--visually {border: 0;clip: rect(1px 1px 1px 1px);clip: rect(1px, 1px, 1px, 1px);height: 1px;margin: -1px;overflow: hidden;padding: 0;position: absolute;width: 1px;}#sk-container-id-2 div.sk-estimator {font-family: monospace;background-color: #f0f8ff;border: 1px dotted black;border-radius: 0.25em;box-sizing: border-box;margin-bottom: 0.5em;}#sk-container-id-2 div.sk-estimator:hover {background-color: #d4ebff;}#sk-container-id-2 div.sk-parallel-item::after {content: \"\";width: 100%;border-bottom: 1px solid gray;flex-grow: 1;}#sk-container-id-2 div.sk-label:hover label.sk-toggleable__label {background-color: #d4ebff;}#sk-container-id-2 div.sk-serial::before {content: \"\";position: absolute;border-left: 1px solid gray;box-sizing: border-box;top: 0;bottom: 0;left: 50%;z-index: 0;}#sk-container-id-2 div.sk-serial {display: flex;flex-direction: column;align-items: center;background-color: white;padding-right: 0.2em;padding-left: 0.2em;position: relative;}#sk-container-id-2 div.sk-item {position: relative;z-index: 1;}#sk-container-id-2 div.sk-parallel {display: flex;align-items: stretch;justify-content: center;background-color: white;position: relative;}#sk-container-id-2 div.sk-item::before, #sk-container-id-2 div.sk-parallel-item::before {content: \"\";position: absolute;border-left: 1px solid gray;box-sizing: border-box;top: 0;bottom: 0;left: 50%;z-index: -1;}#sk-container-id-2 div.sk-parallel-item {display: flex;flex-direction: column;z-index: 1;position: relative;background-color: white;}#sk-container-id-2 div.sk-parallel-item:first-child::after {align-self: flex-end;width: 50%;}#sk-container-id-2 div.sk-parallel-item:last-child::after {align-self: flex-start;width: 50%;}#sk-container-id-2 div.sk-parallel-item:only-child::after {width: 0;}#sk-container-id-2 div.sk-dashed-wrapped {border: 1px dashed gray;margin: 0 0.4em 0.5em 0.4em;box-sizing: border-box;padding-bottom: 0.4em;background-color: white;}#sk-container-id-2 div.sk-label label {font-family: monospace;font-weight: bold;display: inline-block;line-height: 1.2em;}#sk-container-id-2 div.sk-label-container {text-align: center;}#sk-container-id-2 div.sk-container {/* jupyter's `normalize.less` sets `[hidden] { display: none; }` but bootstrap.min.css set `[hidden] { display: none !important; }` so we also need the `!important` here to be able to override the default hidden behavior on the sphinx rendered scikit-learn.org. See: https://github.com/scikit-learn/scikit-learn/issues/21755 */display: inline-block !important;position: relative;}#sk-container-id-2 div.sk-text-repr-fallback {display: none;}</style><div id=\"sk-container-id-2\" class=\"sk-top-container\"><div class=\"sk-text-repr-fallback\"><pre>Pipeline(steps=[(&#x27;tfidfvectorizer&#x27;, TfidfVectorizer()), (&#x27;svc&#x27;, SVC())])</pre><b>In a Jupyter environment, please rerun this cell to show the HTML representation or trust the notebook. <br />On GitHub, the HTML representation is unable to render, please try loading this page with nbviewer.org.</b></div><div class=\"sk-container\" hidden><div class=\"sk-item sk-dashed-wrapped\"><div class=\"sk-label-container\"><div class=\"sk-label sk-toggleable\"><input class=\"sk-toggleable__control sk-hidden--visually\" id=\"sk-estimator-id-2\" type=\"checkbox\" ><label for=\"sk-estimator-id-2\" class=\"sk-toggleable__label sk-toggleable__label-arrow\">Pipeline</label><div class=\"sk-toggleable__content\"><pre>Pipeline(steps=[(&#x27;tfidfvectorizer&#x27;, TfidfVectorizer()), (&#x27;svc&#x27;, SVC())])</pre></div></div></div><div class=\"sk-serial\"><div class=\"sk-item\"><div class=\"sk-estimator sk-toggleable\"><input class=\"sk-toggleable__control sk-hidden--visually\" id=\"sk-estimator-id-3\" type=\"checkbox\" ><label for=\"sk-estimator-id-3\" class=\"sk-toggleable__label sk-toggleable__label-arrow\">TfidfVectorizer</label><div class=\"sk-toggleable__content\"><pre>TfidfVectorizer()</pre></div></div></div><div class=\"sk-item\"><div class=\"sk-estimator sk-toggleable\"><input class=\"sk-toggleable__control sk-hidden--visually\" id=\"sk-estimator-id-4\" type=\"checkbox\" ><label for=\"sk-estimator-id-4\" class=\"sk-toggleable__label sk-toggleable__label-arrow\">SVC</label><div class=\"sk-toggleable__content\"><pre>SVC()</pre></div></div></div></div></div></div></div>"
      ],
      "text/plain": [
       "Pipeline(steps=[('tfidfvectorizer', TfidfVectorizer()), ('svc', SVC())])"
      ]
     },
     "execution_count": 16,
     "metadata": {},
     "output_type": "execute_result"
    }
   ],
   "source": [
    "# on construit un pipeline de traitement\n",
    "pipe_text=make_pipeline(TfidfVectorizer(),SVC())\n",
    "\n",
    "# on l’ajuste à toutes les données\n",
    "# sachant qu’on a déjà validé le modèle\n",
    "pipe_text.fit(df[\"Message\"],y)"
   ]
  },
  {
   "cell_type": "code",
   "execution_count": 17,
   "id": "5ac759ae",
   "metadata": {},
   "outputs": [],
   "source": [
    "def message_filter(message) :\n",
    "    arr_mess=np.array([message])\n",
    "    result=encode.inverse_transform(pipe_text.predict(arr_mess))[0]\n",
    "    print(\"Le message reçu est un :\", result)"
   ]
  },
  {
   "cell_type": "code",
   "execution_count": 18,
   "id": "8e7be325",
   "metadata": {},
   "outputs": [
    {
     "name": "stdout",
     "output_type": "stream",
     "text": [
      "Le message reçu est un : Ham\n",
      "Le message reçu est un : spam\n"
     ]
    }
   ],
   "source": [
    "message_filter(\"J'ai acheté du poulet pour le diner. Tu viens toujours\")\n",
    "message_filter(\"votre colis a été envoyé. veuillez le vérifier et le recevoir. https://truc.com/arnaque\")"
   ]
  }
 ],
 "metadata": {
  "kernelspec": {
   "display_name": "Python 3",
   "language": "python",
   "name": "python3"
  },
  "language_info": {
   "codemirror_mode": {
    "name": "ipython",
    "version": 3
   },
   "file_extension": ".py",
   "mimetype": "text/x-python",
   "name": "python",
   "nbconvert_exporter": "python",
   "pygments_lexer": "ipython3",
   "version": "3.8.10"
  }
 },
 "nbformat": 4,
 "nbformat_minor": 5
}
